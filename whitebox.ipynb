{
 "cells": [
  {
   "cell_type": "code",
   "execution_count": null,
   "metadata": {},
   "outputs": [],
   "source": [
    "from pathlib import Path\n",
    "from genetic_algorithm import genetic_algorithm\n",
    "from genetic_algorithm.selection import TournamentSelection\n",
    "from mwcnf_parser import parse_mwcnf\n",
    "from solver import MwcnfGenerator\n",
    "from solver.fitness import satisfied_clause_count, weights\n",
    "from solver.mwcnf_individual import MwcnfIndividual\n",
    "from weighted_formula.weighted_formula import WeightedCnf\n",
    "\n",
    "from io import StringIO\n",
    "import matplotlib.pyplot as plt\n"
   ]
  },
  {
   "cell_type": "code",
   "execution_count": null,
   "metadata": {},
   "outputs": [],
   "source": [
    "def evaluate_hyperparameters(formula_file: str | Path,\n",
    "                             population_size: int,\n",
    "                             generation_cnt: int,\n",
    "                             tournament_size: float,\n",
    "                             crossover_probability: float,\n",
    "                             mutation_rate: float,\n",
    "                             elitism: int,\n",
    "                             print_plot: bool = True):\n",
    "\n",
    "\n",
    "    debug_stream = StringIO()\n",
    "\n",
    "    formula_path = Path(formula_file)\n",
    "    formula = parse_mwcnf(formula_path)\n",
    "    solution, i = genetic_algorithm(MwcnfGenerator(formula),\n",
    "                                    population_size=population_size,\n",
    "                                    number_of_generations=generation_cnt,\n",
    "                                    selection=TournamentSelection(tournament_size),\n",
    "                                    crossover_probability=crossover_probability,\n",
    "                                    mutation_rate=mutation_rate,\n",
    "                                    elitism=elitism,\n",
    "                                    debug_stream=debug_stream if print_plot else None)\n",
    "\n",
    "    if print_plot:\n",
    "        orders = []\n",
    "        bests = []\n",
    "        means = []\n",
    "        medians = []\n",
    "        worsts = []\n",
    "        for line in debug_stream.getvalue().splitlines():\n",
    "            order, best, mean_, median_, worst = line.split(sep=',')\n",
    "            orders.append(abs(int(order)))\n",
    "            bests.append(abs(float(best)))\n",
    "            means.append(abs(float(mean_)))\n",
    "            medians.append(abs(float(median_)))\n",
    "            worsts.append(abs(float(worst)))\n",
    "        \n",
    "        plt.plot(orders, bests, orders, means, orders, medians, orders, worsts)\n",
    "        plt.show()\n",
    "\n",
    "    if isinstance(solution, MwcnfIndividual):\n",
    "        print(f\"Number satisfied: {-satisfied_clause_count(formula, solution.config)}\")\n",
    "        print(f\"{formula_path.name} {-weights(formula, solution.config)} {solution.config.get_evaluation()} 0\")\n",
    "\n",
    "evaluate_hyperparameters(\"wuf20-91/wuf20-91-Q/wuf20-01.mwcnf\",\n",
    "                         population_size=100,\n",
    "                         generation_cnt=300,\n",
    "                         tournament_size=1.75,\n",
    "                         crossover_probability=0.9,\n",
    "                         mutation_rate=0.01,\n",
    "                         elitism=1,\n",
    "                         print_plot=True)"
   ]
  }
 ],
 "metadata": {
  "kernelspec": {
   "display_name": "Python 3",
   "language": "python",
   "name": "python3"
  },
  "language_info": {
   "codemirror_mode": {
    "name": "ipython",
    "version": 3
   },
   "file_extension": ".py",
   "mimetype": "text/x-python",
   "name": "python",
   "nbconvert_exporter": "python",
   "pygments_lexer": "ipython3",
   "version": "3.10.12"
  }
 },
 "nbformat": 4,
 "nbformat_minor": 2
}
